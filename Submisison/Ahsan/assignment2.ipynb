{
 "cells": [
  {
   "cell_type": "markdown",
   "metadata": {},
   "source": [
    "# Assignment 2 - Data Preprocessing\n",
    "### Ahsan Shakoor\n",
    "\n",
    "\n",
    "- Deadline: Thursday, 20.11.2024\n",
    "- Data Source: https://www.kaggle.com/datasets/jacopoferretti/wages-and-education-of-young-males-dataset/data"
   ]
  },
  {
   "cell_type": "markdown",
   "metadata": {},
   "source": [
    "\n",
    "In this assignment, you will preprocess and clean a dataset by handling missing values, correcting inconsistencies, normalizing or encoding features, and removing outliers to prepare it for analysis or modeling. The expected result is a clean, structured dataset ready for further analysis or machine learning._"
   ]
  },
  {
   "cell_type": "code",
   "execution_count": 20,
   "metadata": {},
   "outputs": [],
   "source": [
    "import pandas as pd  \n",
    "from sklearn.preprocessing import OneHotEncoder"
   ]
  },
  {
   "cell_type": "code",
   "execution_count": 21,
   "metadata": {},
   "outputs": [],
   "source": [
    "df = pd.read_csv(r'Males.csv')"
   ]
  },
  {
   "cell_type": "code",
   "execution_count": 22,
   "metadata": {},
   "outputs": [
    {
     "data": {
      "text/html": [
       "<div>\n",
       "<style scoped>\n",
       "    .dataframe tbody tr th:only-of-type {\n",
       "        vertical-align: middle;\n",
       "    }\n",
       "\n",
       "    .dataframe tbody tr th {\n",
       "        vertical-align: top;\n",
       "    }\n",
       "\n",
       "    .dataframe thead th {\n",
       "        text-align: right;\n",
       "    }\n",
       "</style>\n",
       "<table border=\"1\" class=\"dataframe\">\n",
       "  <thead>\n",
       "    <tr style=\"text-align: right;\">\n",
       "      <th></th>\n",
       "      <th>rownames</th>\n",
       "      <th>nr</th>\n",
       "      <th>year</th>\n",
       "      <th>school</th>\n",
       "      <th>exper</th>\n",
       "      <th>union</th>\n",
       "      <th>ethn</th>\n",
       "      <th>maried</th>\n",
       "      <th>health</th>\n",
       "      <th>wage</th>\n",
       "      <th>industry</th>\n",
       "      <th>occupation</th>\n",
       "      <th>residence</th>\n",
       "    </tr>\n",
       "  </thead>\n",
       "  <tbody>\n",
       "    <tr>\n",
       "      <th>4131</th>\n",
       "      <td>4132</td>\n",
       "      <td>11890</td>\n",
       "      <td>1983</td>\n",
       "      <td>6</td>\n",
       "      <td>13</td>\n",
       "      <td>no</td>\n",
       "      <td>hisp</td>\n",
       "      <td>yes</td>\n",
       "      <td>no</td>\n",
       "      <td>1.425713</td>\n",
       "      <td>Trade</td>\n",
       "      <td>Service_Workers</td>\n",
       "      <td>NaN</td>\n",
       "    </tr>\n",
       "    <tr>\n",
       "      <th>2403</th>\n",
       "      <td>2404</td>\n",
       "      <td>5147</td>\n",
       "      <td>1983</td>\n",
       "      <td>12</td>\n",
       "      <td>7</td>\n",
       "      <td>yes</td>\n",
       "      <td>hisp</td>\n",
       "      <td>yes</td>\n",
       "      <td>no</td>\n",
       "      <td>2.053914</td>\n",
       "      <td>Transportation</td>\n",
       "      <td>Operatives_and_kindred</td>\n",
       "      <td>NaN</td>\n",
       "    </tr>\n",
       "    <tr>\n",
       "      <th>1885</th>\n",
       "      <td>1886</td>\n",
       "      <td>3777</td>\n",
       "      <td>1985</td>\n",
       "      <td>12</td>\n",
       "      <td>7</td>\n",
       "      <td>yes</td>\n",
       "      <td>other</td>\n",
       "      <td>yes</td>\n",
       "      <td>no</td>\n",
       "      <td>2.094466</td>\n",
       "      <td>Trade</td>\n",
       "      <td>Managers, Officials_and_Proprietors</td>\n",
       "      <td>nothern_central</td>\n",
       "    </tr>\n",
       "    <tr>\n",
       "      <th>2976</th>\n",
       "      <td>2977</td>\n",
       "      <td>7424</td>\n",
       "      <td>1980</td>\n",
       "      <td>11</td>\n",
       "      <td>1</td>\n",
       "      <td>no</td>\n",
       "      <td>hisp</td>\n",
       "      <td>no</td>\n",
       "      <td>no</td>\n",
       "      <td>1.289395</td>\n",
       "      <td>Trade</td>\n",
       "      <td>Laborers_and_farmers</td>\n",
       "      <td>south</td>\n",
       "    </tr>\n",
       "    <tr>\n",
       "      <th>3557</th>\n",
       "      <td>3558</td>\n",
       "      <td>9066</td>\n",
       "      <td>1985</td>\n",
       "      <td>11</td>\n",
       "      <td>6</td>\n",
       "      <td>no</td>\n",
       "      <td>black</td>\n",
       "      <td>no</td>\n",
       "      <td>no</td>\n",
       "      <td>1.415847</td>\n",
       "      <td>Personal_Service</td>\n",
       "      <td>Service_Workers</td>\n",
       "      <td>south</td>\n",
       "    </tr>\n",
       "  </tbody>\n",
       "</table>\n",
       "</div>"
      ],
      "text/plain": [
       "      rownames     nr  year  school  exper union   ethn maried health  \\\n",
       "4131      4132  11890  1983       6     13    no   hisp    yes     no   \n",
       "2403      2404   5147  1983      12      7   yes   hisp    yes     no   \n",
       "1885      1886   3777  1985      12      7   yes  other    yes     no   \n",
       "2976      2977   7424  1980      11      1    no   hisp     no     no   \n",
       "3557      3558   9066  1985      11      6    no  black     no     no   \n",
       "\n",
       "          wage          industry                           occupation  \\\n",
       "4131  1.425713             Trade                      Service_Workers   \n",
       "2403  2.053914    Transportation               Operatives_and_kindred   \n",
       "1885  2.094466             Trade  Managers, Officials_and_Proprietors   \n",
       "2976  1.289395             Trade                 Laborers_and_farmers   \n",
       "3557  1.415847  Personal_Service                      Service_Workers   \n",
       "\n",
       "            residence  \n",
       "4131              NaN  \n",
       "2403              NaN  \n",
       "1885  nothern_central  \n",
       "2976            south  \n",
       "3557            south  "
      ]
     },
     "execution_count": 22,
     "metadata": {},
     "output_type": "execute_result"
    }
   ],
   "source": [
    "df.sample(5)"
   ]
  },
  {
   "cell_type": "code",
   "execution_count": 23,
   "metadata": {},
   "outputs": [
    {
     "data": {
      "text/plain": [
       "rownames         0\n",
       "nr               0\n",
       "year             0\n",
       "school           0\n",
       "exper            0\n",
       "union            0\n",
       "ethn             0\n",
       "maried           0\n",
       "health           0\n",
       "wage             0\n",
       "industry         0\n",
       "occupation       0\n",
       "residence     1245\n",
       "dtype: int64"
      ]
     },
     "execution_count": 23,
     "metadata": {},
     "output_type": "execute_result"
    }
   ],
   "source": [
    "df.isnull().sum()"
   ]
  },
  {
   "cell_type": "code",
   "execution_count": 24,
   "metadata": {},
   "outputs": [
    {
     "name": "stdout",
     "output_type": "stream",
     "text": [
      "<class 'pandas.core.frame.DataFrame'>\n",
      "RangeIndex: 4360 entries, 0 to 4359\n",
      "Data columns (total 13 columns):\n",
      " #   Column      Non-Null Count  Dtype  \n",
      "---  ------      --------------  -----  \n",
      " 0   rownames    4360 non-null   int64  \n",
      " 1   nr          4360 non-null   int64  \n",
      " 2   year        4360 non-null   int64  \n",
      " 3   school      4360 non-null   int64  \n",
      " 4   exper       4360 non-null   int64  \n",
      " 5   union       4360 non-null   object \n",
      " 6   ethn        4360 non-null   object \n",
      " 7   maried      4360 non-null   object \n",
      " 8   health      4360 non-null   object \n",
      " 9   wage        4360 non-null   float64\n",
      " 10  industry    4360 non-null   object \n",
      " 11  occupation  4360 non-null   object \n",
      " 12  residence   3115 non-null   object \n",
      "dtypes: float64(1), int64(5), object(7)\n",
      "memory usage: 442.9+ KB\n"
     ]
    }
   ],
   "source": [
    "df.info()"
   ]
  },
  {
   "cell_type": "code",
   "execution_count": 25,
   "metadata": {},
   "outputs": [
    {
     "data": {
      "text/plain": [
       "union          2\n",
       "ethn           3\n",
       "maried         2\n",
       "health         2\n",
       "industry      12\n",
       "occupation     9\n",
       "residence      4\n",
       "dtype: int64"
      ]
     },
     "execution_count": 25,
     "metadata": {},
     "output_type": "execute_result"
    }
   ],
   "source": [
    "df[['union', 'ethn', 'maried', 'health', 'industry', 'occupation', 'residence']].nunique()"
   ]
  },
  {
   "cell_type": "code",
   "execution_count": 26,
   "metadata": {},
   "outputs": [
    {
     "name": "stdout",
     "output_type": "stream",
     "text": [
      "union\n",
      "no     3296\n",
      "yes    1064\n",
      "Name: count, dtype: int64\n"
     ]
    },
    {
     "data": {
      "text/plain": [
       "ethn\n",
       "other    3176\n",
       "hisp      680\n",
       "black     504\n",
       "Name: count, dtype: int64"
      ]
     },
     "execution_count": 26,
     "metadata": {},
     "output_type": "execute_result"
    }
   ],
   "source": [
    "print(df['union'].value_counts())\n",
    "df['ethn'].value_counts()"
   ]
  },
  {
   "cell_type": "code",
   "execution_count": 27,
   "metadata": {},
   "outputs": [],
   "source": [
    "from sklearn.preprocessing import LabelEncoder\n",
    "import pandas as pd\n",
    "\n",
    "# Define the columns to encode\n",
    "columns_to_encode = ['union', 'ethn', 'maried', 'health', 'industry', 'occupation']\n",
    "\n",
    "# Initialize the LabelEncoder\n",
    "label_encoders = {col: LabelEncoder() for col in columns_to_encode}\n",
    "\n",
    "# Apply label encoding to each column\n",
    "for col in columns_to_encode:\n",
    "    df[col] = label_encoders[col].fit_transform(df[col])\n",
    "\n",
    "# Display the transformed DataFrame\n",
    "\n"
   ]
  },
  {
   "cell_type": "code",
   "execution_count": 28,
   "metadata": {},
   "outputs": [
    {
     "data": {
      "text/html": [
       "<div>\n",
       "<style scoped>\n",
       "    .dataframe tbody tr th:only-of-type {\n",
       "        vertical-align: middle;\n",
       "    }\n",
       "\n",
       "    .dataframe tbody tr th {\n",
       "        vertical-align: top;\n",
       "    }\n",
       "\n",
       "    .dataframe thead th {\n",
       "        text-align: right;\n",
       "    }\n",
       "</style>\n",
       "<table border=\"1\" class=\"dataframe\">\n",
       "  <thead>\n",
       "    <tr style=\"text-align: right;\">\n",
       "      <th></th>\n",
       "      <th>rownames</th>\n",
       "      <th>nr</th>\n",
       "      <th>year</th>\n",
       "      <th>school</th>\n",
       "      <th>exper</th>\n",
       "      <th>union</th>\n",
       "      <th>ethn</th>\n",
       "      <th>maried</th>\n",
       "      <th>health</th>\n",
       "      <th>wage</th>\n",
       "      <th>industry</th>\n",
       "      <th>occupation</th>\n",
       "      <th>residence</th>\n",
       "    </tr>\n",
       "  </thead>\n",
       "  <tbody>\n",
       "    <tr>\n",
       "      <th>0</th>\n",
       "      <td>1</td>\n",
       "      <td>13</td>\n",
       "      <td>1980</td>\n",
       "      <td>14</td>\n",
       "      <td>1</td>\n",
       "      <td>0</td>\n",
       "      <td>2</td>\n",
       "      <td>0</td>\n",
       "      <td>0</td>\n",
       "      <td>1.197540</td>\n",
       "      <td>1</td>\n",
       "      <td>8</td>\n",
       "      <td>north_east</td>\n",
       "    </tr>\n",
       "    <tr>\n",
       "      <th>1</th>\n",
       "      <td>2</td>\n",
       "      <td>13</td>\n",
       "      <td>1981</td>\n",
       "      <td>14</td>\n",
       "      <td>2</td>\n",
       "      <td>1</td>\n",
       "      <td>2</td>\n",
       "      <td>0</td>\n",
       "      <td>0</td>\n",
       "      <td>1.853060</td>\n",
       "      <td>7</td>\n",
       "      <td>8</td>\n",
       "      <td>north_east</td>\n",
       "    </tr>\n",
       "    <tr>\n",
       "      <th>2</th>\n",
       "      <td>3</td>\n",
       "      <td>13</td>\n",
       "      <td>1982</td>\n",
       "      <td>14</td>\n",
       "      <td>3</td>\n",
       "      <td>0</td>\n",
       "      <td>2</td>\n",
       "      <td>0</td>\n",
       "      <td>0</td>\n",
       "      <td>1.344462</td>\n",
       "      <td>1</td>\n",
       "      <td>8</td>\n",
       "      <td>north_east</td>\n",
       "    </tr>\n",
       "    <tr>\n",
       "      <th>3</th>\n",
       "      <td>4</td>\n",
       "      <td>13</td>\n",
       "      <td>1983</td>\n",
       "      <td>14</td>\n",
       "      <td>4</td>\n",
       "      <td>0</td>\n",
       "      <td>2</td>\n",
       "      <td>0</td>\n",
       "      <td>0</td>\n",
       "      <td>1.433213</td>\n",
       "      <td>1</td>\n",
       "      <td>8</td>\n",
       "      <td>north_east</td>\n",
       "    </tr>\n",
       "    <tr>\n",
       "      <th>4</th>\n",
       "      <td>5</td>\n",
       "      <td>13</td>\n",
       "      <td>1984</td>\n",
       "      <td>14</td>\n",
       "      <td>5</td>\n",
       "      <td>0</td>\n",
       "      <td>2</td>\n",
       "      <td>0</td>\n",
       "      <td>0</td>\n",
       "      <td>1.568125</td>\n",
       "      <td>7</td>\n",
       "      <td>1</td>\n",
       "      <td>north_east</td>\n",
       "    </tr>\n",
       "  </tbody>\n",
       "</table>\n",
       "</div>"
      ],
      "text/plain": [
       "   rownames  nr  year  school  exper  union  ethn  maried  health      wage  \\\n",
       "0         1  13  1980      14      1      0     2       0       0  1.197540   \n",
       "1         2  13  1981      14      2      1     2       0       0  1.853060   \n",
       "2         3  13  1982      14      3      0     2       0       0  1.344462   \n",
       "3         4  13  1983      14      4      0     2       0       0  1.433213   \n",
       "4         5  13  1984      14      5      0     2       0       0  1.568125   \n",
       "\n",
       "   industry  occupation   residence  \n",
       "0         1           8  north_east  \n",
       "1         7           8  north_east  \n",
       "2         1           8  north_east  \n",
       "3         1           8  north_east  \n",
       "4         7           1  north_east  "
      ]
     },
     "execution_count": 28,
     "metadata": {},
     "output_type": "execute_result"
    }
   ],
   "source": [
    "df.head()\n"
   ]
  },
  {
   "cell_type": "code",
   "execution_count": null,
   "metadata": {},
   "outputs": [
    {
     "name": "stdout",
     "output_type": "stream",
     "text": [
      "<class 'pandas.core.frame.DataFrame'>\n",
      "RangeIndex: 4360 entries, 0 to 4359\n",
      "Data columns (total 13 columns):\n",
      " #   Column      Non-Null Count  Dtype  \n",
      "---  ------      --------------  -----  \n",
      " 0   rownames    4360 non-null   int64  \n",
      " 1   nr          4360 non-null   int64  \n",
      " 2   year        4360 non-null   int64  \n",
      " 3   school      4360 non-null   int64  \n",
      " 4   exper       4360 non-null   int64  \n",
      " 5   union       4360 non-null   int32  \n",
      " 6   ethn        4360 non-null   int32  \n",
      " 7   maried      4360 non-null   int32  \n",
      " 8   health      4360 non-null   int32  \n",
      " 9   wage        4360 non-null   float64\n",
      " 10  industry    4360 non-null   int32  \n",
      " 11  occupation  4360 non-null   int32  \n",
      " 12  residence   3115 non-null   object \n",
      "dtypes: float64(1), int32(6), int64(5), object(1)\n",
      "memory usage: 340.8+ KB\n"
     ]
    }
   ],
   "source": [
    "df.info()  "
   ]
  },
  {
   "cell_type": "code",
   "execution_count": null,
   "metadata": {},
   "outputs": [],
   "source": []
  }
 ],
 "metadata": {
  "kernelspec": {
   "display_name": "base",
   "language": "python",
   "name": "python3"
  },
  "language_info": {
   "codemirror_mode": {
    "name": "ipython",
    "version": 3
   },
   "file_extension": ".py",
   "mimetype": "text/x-python",
   "name": "python",
   "nbconvert_exporter": "python",
   "pygments_lexer": "ipython3",
   "version": "3.12.4"
  }
 },
 "nbformat": 4,
 "nbformat_minor": 2
}
