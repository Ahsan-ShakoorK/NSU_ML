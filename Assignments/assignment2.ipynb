{
 "cells": [
  {
   "cell_type": "markdown",
   "metadata": {},
   "source": [
    "# Assignment 2 - Data Preprocessing\n",
    "\n",
    "- Deadline: Thursday, 20.11.2024\n",
    "- Data Source: https://www.kaggle.com/datasets/jacopoferretti/wages-and-education-of-young-males-dataset/data"
   ]
  },
  {
   "cell_type": "markdown",
   "metadata": {},
   "source": [
    "In this assignment, you will preprocess and clean a dataset by handling missing values, correcting inconsistencies, normalizing or encoding features, and removing outliers to prepare it for analysis or modeling. The expected result is a clean, structured dataset ready for further analysis or machine learning."
   ]
  },
  {
   "cell_type": "code",
   "execution_count": 1,
   "metadata": {},
   "outputs": [],
   "source": [
    "import pandas as pd"
   ]
  },
  {
   "cell_type": "code",
   "execution_count": 2,
   "metadata": {},
   "outputs": [],
   "source": [
    "df = pd.read_csv('../Data/Lab2/Males.csv')"
   ]
  },
  {
   "cell_type": "code",
   "execution_count": 3,
   "metadata": {},
   "outputs": [
    {
     "data": {
      "text/html": [
       "<div>\n",
       "<style scoped>\n",
       "    .dataframe tbody tr th:only-of-type {\n",
       "        vertical-align: middle;\n",
       "    }\n",
       "\n",
       "    .dataframe tbody tr th {\n",
       "        vertical-align: top;\n",
       "    }\n",
       "\n",
       "    .dataframe thead th {\n",
       "        text-align: right;\n",
       "    }\n",
       "</style>\n",
       "<table border=\"1\" class=\"dataframe\">\n",
       "  <thead>\n",
       "    <tr style=\"text-align: right;\">\n",
       "      <th></th>\n",
       "      <th>rownames</th>\n",
       "      <th>nr</th>\n",
       "      <th>year</th>\n",
       "      <th>school</th>\n",
       "      <th>exper</th>\n",
       "      <th>union</th>\n",
       "      <th>ethn</th>\n",
       "      <th>maried</th>\n",
       "      <th>health</th>\n",
       "      <th>wage</th>\n",
       "      <th>industry</th>\n",
       "      <th>occupation</th>\n",
       "      <th>residence</th>\n",
       "    </tr>\n",
       "  </thead>\n",
       "  <tbody>\n",
       "    <tr>\n",
       "      <th>0</th>\n",
       "      <td>1</td>\n",
       "      <td>13</td>\n",
       "      <td>1980</td>\n",
       "      <td>14</td>\n",
       "      <td>1</td>\n",
       "      <td>no</td>\n",
       "      <td>other</td>\n",
       "      <td>no</td>\n",
       "      <td>no</td>\n",
       "      <td>1.197540</td>\n",
       "      <td>Business_and_Repair_Service</td>\n",
       "      <td>Service_Workers</td>\n",
       "      <td>north_east</td>\n",
       "    </tr>\n",
       "    <tr>\n",
       "      <th>1</th>\n",
       "      <td>2</td>\n",
       "      <td>13</td>\n",
       "      <td>1981</td>\n",
       "      <td>14</td>\n",
       "      <td>2</td>\n",
       "      <td>yes</td>\n",
       "      <td>other</td>\n",
       "      <td>no</td>\n",
       "      <td>no</td>\n",
       "      <td>1.853060</td>\n",
       "      <td>Personal_Service</td>\n",
       "      <td>Service_Workers</td>\n",
       "      <td>north_east</td>\n",
       "    </tr>\n",
       "    <tr>\n",
       "      <th>2</th>\n",
       "      <td>3</td>\n",
       "      <td>13</td>\n",
       "      <td>1982</td>\n",
       "      <td>14</td>\n",
       "      <td>3</td>\n",
       "      <td>no</td>\n",
       "      <td>other</td>\n",
       "      <td>no</td>\n",
       "      <td>no</td>\n",
       "      <td>1.344462</td>\n",
       "      <td>Business_and_Repair_Service</td>\n",
       "      <td>Service_Workers</td>\n",
       "      <td>north_east</td>\n",
       "    </tr>\n",
       "    <tr>\n",
       "      <th>3</th>\n",
       "      <td>4</td>\n",
       "      <td>13</td>\n",
       "      <td>1983</td>\n",
       "      <td>14</td>\n",
       "      <td>4</td>\n",
       "      <td>no</td>\n",
       "      <td>other</td>\n",
       "      <td>no</td>\n",
       "      <td>no</td>\n",
       "      <td>1.433213</td>\n",
       "      <td>Business_and_Repair_Service</td>\n",
       "      <td>Service_Workers</td>\n",
       "      <td>north_east</td>\n",
       "    </tr>\n",
       "    <tr>\n",
       "      <th>4</th>\n",
       "      <td>5</td>\n",
       "      <td>13</td>\n",
       "      <td>1984</td>\n",
       "      <td>14</td>\n",
       "      <td>5</td>\n",
       "      <td>no</td>\n",
       "      <td>other</td>\n",
       "      <td>no</td>\n",
       "      <td>no</td>\n",
       "      <td>1.568125</td>\n",
       "      <td>Personal_Service</td>\n",
       "      <td>Craftsmen, Foremen_and_kindred</td>\n",
       "      <td>north_east</td>\n",
       "    </tr>\n",
       "  </tbody>\n",
       "</table>\n",
       "</div>"
      ],
      "text/plain": [
       "   rownames  nr  year  school  exper union   ethn maried health      wage  \\\n",
       "0         1  13  1980      14      1    no  other     no     no  1.197540   \n",
       "1         2  13  1981      14      2   yes  other     no     no  1.853060   \n",
       "2         3  13  1982      14      3    no  other     no     no  1.344462   \n",
       "3         4  13  1983      14      4    no  other     no     no  1.433213   \n",
       "4         5  13  1984      14      5    no  other     no     no  1.568125   \n",
       "\n",
       "                      industry                      occupation   residence  \n",
       "0  Business_and_Repair_Service                 Service_Workers  north_east  \n",
       "1             Personal_Service                 Service_Workers  north_east  \n",
       "2  Business_and_Repair_Service                 Service_Workers  north_east  \n",
       "3  Business_and_Repair_Service                 Service_Workers  north_east  \n",
       "4             Personal_Service  Craftsmen, Foremen_and_kindred  north_east  "
      ]
     },
     "execution_count": 3,
     "metadata": {},
     "output_type": "execute_result"
    }
   ],
   "source": [
    "df.head()"
   ]
  },
  {
   "cell_type": "code",
   "execution_count": null,
   "metadata": {},
   "outputs": [],
   "source": []
  }
 ],
 "metadata": {
  "kernelspec": {
   "display_name": "NSU_ML-Je-J2O7t",
   "language": "python",
   "name": "python3"
  },
  "language_info": {
   "codemirror_mode": {
    "name": "ipython",
    "version": 3
   },
   "file_extension": ".py",
   "mimetype": "text/x-python",
   "name": "python",
   "nbconvert_exporter": "python",
   "pygments_lexer": "ipython3",
   "version": "3.12.4"
  }
 },
 "nbformat": 4,
 "nbformat_minor": 2
}
